{
 "cells": [
  {
   "cell_type": "markdown",
   "metadata": {},
   "source": [
    "# Importing Libraries"
   ]
  },
  {
   "cell_type": "code",
   "execution_count": 38,
   "metadata": {
    "ExecuteTime": {
     "end_time": "2023-06-08T19:43:48.338477400Z",
     "start_time": "2023-06-08T19:43:48.223924900Z"
    }
   },
   "outputs": [],
   "source": [
    "import keras\n",
    "import tensorflow\n",
    "import numpy as np\n",
    "import pandas as pd\n",
    "from keras import layers, regularizers, Input, Model\n",
    "from keras.models import Sequential\n",
    "from keras.layers import Dense\n",
    "from keras.saving.saving_api import load_model\n",
    "from sklearn.model_selection import StratifiedShuffleSplit\n",
    "from sklearn.preprocessing import OneHotEncoder,LabelEncoder, MinMaxScaler, StandardScaler, OrdinalEncoder\n",
    "from matplotlib import pyplot as plt\n",
    "from keras.callbacks import ModelCheckpoint, TensorBoard"
   ]
  },
  {
   "cell_type": "markdown",
   "metadata": {},
   "source": [
    "## Variables"
   ]
  },
  {
   "cell_type": "code",
   "execution_count": 39,
   "metadata": {
    "ExecuteTime": {
     "end_time": "2023-06-08T19:43:52.456967500Z",
     "start_time": "2023-06-08T19:43:48.252665400Z"
    }
   },
   "outputs": [
    {
     "name": "stderr",
     "output_type": "stream",
     "text": [
      "C:\\Users\\faiza\\AppData\\Local\\Temp\\ipykernel_39156\\2729474595.py:5: DtypeWarning: Columns (7,9) have mixed types. Specify dtype option on import or set low_memory=False.\n",
      "  df = pd.read_csv(\"dataset/UNSW_2018_IoT_Botnet_Full5pc_4.csv\")\n"
     ]
    }
   ],
   "source": [
    "\"\"\"\n",
    "-------------------------------------------Variables--------------------------------\n",
    "\"\"\"\n",
    "# -------- Pandas Dataframe\n",
    "df = pd.read_csv(\"dataset/UNSW_2018_IoT_Botnet_Full5pc_4.csv\")\n",
    "# df.drop(columns = ['dport','sport'],inplace = True)\n",
    "# columns\n",
    "columns = df.columns.tolist()\n",
    "\n",
    "# categorized columns`\n",
    "nominal = [col for col in columns if df[col].dtype == 'object']\n",
    "discrete = [col for col in columns if df[col].dtype == 'int64']\n",
    "continuous = [col for col in columns if df[col].dtype == 'float']\n",
    "\n",
    "# categorized dataframe\n",
    "df_nominal = df.select_dtypes(include=['object'])\n",
    "df_discrete = df.select_dtypes(include=['int64'])\n",
    "df_continuous = df.select_dtypes(include=['float'])\n",
    "\n",
    "#------------- enumerate nominal categories using integers\n",
    "df_categorical = df.select_dtypes(include=['int8', 'int16'])\n",
    "\n",
    "# -------- Balanced subset\n",
    "df_class_0 = df[df['attack'] == 0]\n",
    "df_class_1 = df[df['attack'] == 1]\n",
    "df_class_1_subset = df_class_1.sample(n=447, random_state=100)\n",
    "df_balanced=pd.concat([df_class_1_subset, df_class_0])"
   ]
  },
  {
   "cell_type": "markdown",
   "metadata": {},
   "source": [
    "## Explore"
   ]
  },
  {
   "cell_type": "code",
   "execution_count": 40,
   "metadata": {
    "ExecuteTime": {
     "end_time": "2023-06-08T19:43:52.809947600Z",
     "start_time": "2023-06-08T19:43:52.446970100Z"
    }
   },
   "outputs": [
    {
     "name": "stdout",
     "output_type": "stream",
     "text": [
      "<class 'pandas.core.frame.DataFrame'>\n",
      "RangeIndex: 668522 entries, 0 to 668521\n",
      "Data columns (total 46 columns):\n",
      " #   Column                            Non-Null Count   Dtype  \n",
      "---  ------                            --------------   -----  \n",
      " 0   pkSeqID                           668522 non-null  int64  \n",
      " 1   stime                             668522 non-null  float64\n",
      " 2   flgs                              668522 non-null  object \n",
      " 3   flgs_number                       668522 non-null  int64  \n",
      " 4   proto                             668522 non-null  object \n",
      " 5   proto_number                      668522 non-null  int64  \n",
      " 6   saddr                             668522 non-null  object \n",
      " 7   sport                             668522 non-null  object \n",
      " 8   daddr                             668522 non-null  object \n",
      " 9   dport                             668522 non-null  object \n",
      " 10  pkts                              668522 non-null  int64  \n",
      " 11  bytes                             668522 non-null  int64  \n",
      " 12  state                             668522 non-null  object \n",
      " 13  state_number                      668522 non-null  int64  \n",
      " 14  ltime                             668522 non-null  float64\n",
      " 15  seq                               668522 non-null  int64  \n",
      " 16  dur                               668522 non-null  float64\n",
      " 17  mean                              668522 non-null  float64\n",
      " 18  stddev                            668522 non-null  float64\n",
      " 19  sum                               668522 non-null  float64\n",
      " 20  min                               668522 non-null  float64\n",
      " 21  max                               668522 non-null  float64\n",
      " 22  spkts                             668522 non-null  int64  \n",
      " 23  dpkts                             668522 non-null  int64  \n",
      " 24  sbytes                            668522 non-null  int64  \n",
      " 25  dbytes                            668522 non-null  int64  \n",
      " 26  rate                              668522 non-null  float64\n",
      " 27  srate                             668522 non-null  float64\n",
      " 28  drate                             668522 non-null  float64\n",
      " 29  TnBPSrcIP                         668522 non-null  int64  \n",
      " 30  TnBPDstIP                         668522 non-null  int64  \n",
      " 31  TnP_PSrcIP                        668522 non-null  int64  \n",
      " 32  TnP_PDstIP                        668522 non-null  int64  \n",
      " 33  TnP_PerProto                      668522 non-null  int64  \n",
      " 34  TnP_Per_Dport                     668522 non-null  int64  \n",
      " 35  AR_P_Proto_P_SrcIP                668522 non-null  float64\n",
      " 36  AR_P_Proto_P_DstIP                668522 non-null  float64\n",
      " 37  N_IN_Conn_P_DstIP                 668522 non-null  int64  \n",
      " 38  N_IN_Conn_P_SrcIP                 668522 non-null  int64  \n",
      " 39  AR_P_Proto_P_Sport                668522 non-null  float64\n",
      " 40  AR_P_Proto_P_Dport                668522 non-null  float64\n",
      " 41  Pkts_P_State_P_Protocol_P_DestIP  668522 non-null  int64  \n",
      " 42  Pkts_P_State_P_Protocol_P_SrcIP   668522 non-null  int64  \n",
      " 43  attack                            668522 non-null  int64  \n",
      " 44  category                          668522 non-null  object \n",
      " 45  subcategory                       668522 non-null  object \n",
      "dtypes: float64(15), int64(22), object(9)\n",
      "memory usage: 234.6+ MB\n",
      "None\n",
      "(668045, 46)\n",
      "(477, 46)\n",
      "(447, 46)\n",
      "(924, 46)\n"
     ]
    }
   ],
   "source": [
    "print(df.info())\n",
    "print(df_class_1.shape)\n",
    "print(df_class_0.shape)\n",
    "print(df_class_1_subset.shape)\n",
    "print(df_balanced.shape)"
   ]
  },
  {
   "cell_type": "code",
   "execution_count": 41,
   "metadata": {
    "ExecuteTime": {
     "end_time": "2023-06-08T19:43:54.197582700Z",
     "start_time": "2023-06-08T19:43:52.807949300Z"
    }
   },
   "outputs": [
    {
     "name": "stdout",
     "output_type": "stream",
     "text": [
      "pkSeqID\n",
      "3000001    1\n",
      "3445695    1\n",
      "3445677    1\n",
      "3445678    1\n",
      "3445679    1\n",
      "          ..\n",
      "3222843    1\n",
      "3222844    1\n",
      "3222845    1\n",
      "3222846    1\n",
      "3668522    1\n",
      "Name: count, Length: 668522, dtype: int64 \n",
      "\n",
      "stime\n",
      "1.528099e+09    29\n",
      "1.528099e+09    28\n",
      "1.528099e+09    28\n",
      "1.528099e+09    27\n",
      "1.528099e+09    27\n",
      "                ..\n",
      "1.526345e+09     1\n",
      "1.526345e+09     1\n",
      "1.526345e+09     1\n",
      "1.526345e+09     1\n",
      "1.529381e+09     1\n",
      "Name: count, Length: 88102, dtype: int64 \n",
      "\n",
      "flgs\n",
      "e        654807\n",
      "eU        11159\n",
      "e s        2331\n",
      "e d         113\n",
      "e g          99\n",
      "e &           5\n",
      "e   t         4\n",
      "e *           3\n",
      "e  D          1\n",
      "Name: count, dtype: int64 \n",
      "\n",
      "flgs_number\n",
      "1    654807\n",
      "6     11159\n",
      "2      2331\n",
      "3       113\n",
      "5        99\n",
      "7         5\n",
      "8         4\n",
      "4         3\n",
      "9         1\n",
      "Name: count, dtype: int64 \n",
      "\n",
      "proto\n",
      "udp          592145\n",
      "tcp           67202\n",
      "icmp           9030\n",
      "arp             137\n",
      "ipv6-icmp         8\n",
      "Name: count, dtype: int64 \n",
      "\n",
      "proto_number\n",
      "3    592145\n",
      "1     67202\n",
      "4      9030\n",
      "2       137\n",
      "5         8\n",
      "Name: count, dtype: int64 \n",
      "\n",
      "saddr\n",
      "192.168.100.147              182905\n",
      "192.168.100.148              167582\n",
      "192.168.100.150              161085\n",
      "192.168.100.149              147091\n",
      "192.168.100.5                  5029\n",
      "192.168.100.3                  4673\n",
      "192.168.100.6                    38\n",
      "192.168.100.7                    30\n",
      "192.168.100.4                    19\n",
      "192.168.100.1                    16\n",
      "192.168.100.46                   15\n",
      "192.168.100.27                   14\n",
      "fe80::250:56ff:febe:254           6\n",
      "fe80::c0c0:aa20:45b9:bdd9         4\n",
      "192.168.100.55                    3\n",
      "fe80::250:56ff:febe:26db          2\n",
      "fe80::250:56ff:febe:e9d9          2\n",
      "fe80::250:56ff:febe:89ee          2\n",
      "fe80::2c6a:ff9b:7e14:166a         2\n",
      "fe80::250:56ff:febe:bf1a          2\n",
      "fe80::250:56ff:febe:c038          2\n",
      "Name: count, dtype: int64 \n",
      "\n",
      "sport\n",
      "0x0303    8928\n",
      "2290      1031\n",
      "1822      1030\n",
      "1589      1030\n",
      "2456      1029\n",
      "          ... \n",
      "7664         1\n",
      "7663         1\n",
      "7662         1\n",
      "7661         1\n",
      "54813        1\n",
      "Name: count, Length: 107994, dtype: int64 \n",
      "\n",
      "daddr\n",
      "192.168.100.3      617895\n",
      "192.168.100.5       31384\n",
      "192.168.100.6        4719\n",
      "192.168.100.7        4496\n",
      "192.168.100.149      2443\n",
      "                    ...  \n",
      "205.251.195.185         1\n",
      "205.251.199.61          1\n",
      "205.251.199.194         1\n",
      "205.251.198.119         1\n",
      "205.251.194.167         1\n",
      "Name: count, Length: 84, dtype: int64 \n",
      "\n",
      "dport\n",
      "80        507896\n",
      "80         69717\n",
      "1           6745\n",
      "3306        4613\n",
      "53           340\n",
      "           ...  \n",
      "0x189b         1\n",
      "0xc088         1\n",
      "0x6797         1\n",
      "3563           1\n",
      "3799           1\n",
      "Name: count, Length: 3966, dtype: int64 \n",
      "\n",
      "pkts\n",
      "7        161615\n",
      "15       111931\n",
      "11       111122\n",
      "8         94340\n",
      "2         55501\n",
      "          ...  \n",
      "2846          1\n",
      "252           1\n",
      "11733         1\n",
      "70056         1\n",
      "37            1\n",
      "Name: count, Length: 116, dtype: int64 \n",
      "\n",
      "bytes\n",
      "420     161551\n",
      "900     111882\n",
      "660     110521\n",
      "480      94219\n",
      "120      48040\n",
      "         ...  \n",
      "1886         1\n",
      "2566         1\n",
      "4068         1\n",
      "4665         1\n",
      "5604         1\n",
      "Name: count, Length: 821, dtype: int64 \n",
      "\n",
      "state\n",
      "INT    591914\n",
      "RST     59975\n",
      "URP      8928\n",
      "FIN      6385\n",
      "REQ       758\n",
      "CON       452\n",
      "ECO        70\n",
      "TST        16\n",
      "MAS        16\n",
      "NRS         8\n",
      "Name: count, dtype: int64 \n",
      "\n",
      "state_number\n",
      "4     591914\n",
      "1      59975\n",
      "5       8928\n",
      "6       6385\n",
      "3        758\n",
      "2        452\n",
      "9         70\n",
      "10        16\n",
      "11        16\n",
      "8          8\n",
      "Name: count, dtype: int64 \n",
      "\n",
      "ltime\n",
      "1.528099e+09    29\n",
      "1.528099e+09    28\n",
      "1.528099e+09    28\n",
      "1.528099e+09    28\n",
      "1.528099e+09    28\n",
      "                ..\n",
      "1.526346e+09     1\n",
      "1.526346e+09     1\n",
      "1.526346e+09     1\n",
      "1.526346e+09     1\n",
      "1.529382e+09     1\n",
      "Name: count, Length: 98450, dtype: int64 \n",
      "\n",
      "seq\n",
      "3692      8\n",
      "3726      8\n",
      "85        8\n",
      "3719      8\n",
      "3720      8\n",
      "         ..\n",
      "261192    1\n",
      "262159    1\n",
      "262160    1\n",
      "262161    1\n",
      "261292    1\n",
      "Name: count, Length: 262161, dtype: int64 \n",
      "\n",
      "dur\n",
      "0.000000      14054\n",
      "0.000014        373\n",
      "0.000015        326\n",
      "0.000047        289\n",
      "0.000043        287\n",
      "              ...  \n",
      "0.350171          1\n",
      "0.354169          1\n",
      "0.057892          1\n",
      "0.166950          1\n",
      "848.002686        1\n",
      "Name: count, Length: 66503, dtype: int64 \n",
      "\n",
      "mean\n",
      "0.000000    14930\n",
      "0.000014      411\n",
      "0.000015      342\n",
      "0.000047      292\n",
      "0.000043      289\n",
      "            ...  \n",
      "3.406793        1\n",
      "3.406792        1\n",
      "3.640816        1\n",
      "3.688542        1\n",
      "2.874302        1\n",
      "Name: count, Length: 62239, dtype: int64 \n",
      "\n",
      "stddev\n",
      "0.000000    89897\n",
      "1.913718      174\n",
      "1.911398      152\n",
      "1.909944      152\n",
      "1.368186      149\n",
      "            ...  \n",
      "0.635935        1\n",
      "0.635934        1\n",
      "1.006237        1\n",
      "0.873868        1\n",
      "0.000079        1\n",
      "Name: count, Length: 53787, dtype: int64 \n",
      "\n",
      "sum\n",
      "0.000000     14927\n",
      "0.000014       376\n",
      "0.000015       328\n",
      "0.000043       291\n",
      "0.000047       290\n",
      "             ...  \n",
      "11.949817        1\n",
      "10.916057        1\n",
      "10.916058        1\n",
      "11.948616        1\n",
      "2.874302         1\n",
      "Name: count, Length: 112750, dtype: int64 \n",
      "\n",
      "min\n",
      "0.000000    180910\n",
      "0.000014       374\n",
      "0.000015       327\n",
      "0.000047       290\n",
      "0.000043       289\n",
      "             ...  \n",
      "2.977090         1\n",
      "2.773049         1\n",
      "2.773043         1\n",
      "0.001584         1\n",
      "2.874302         1\n",
      "Name: count, Length: 50677, dtype: int64 \n",
      "\n",
      "max\n",
      "0.000000    14927\n",
      "0.000014      376\n",
      "0.000015      328\n",
      "0.000043      291\n",
      "0.000047      290\n",
      "            ...  \n",
      "4.876929        1\n",
      "4.876946        1\n",
      "4.060500        1\n",
      "4.060506        1\n",
      "2.874302        1\n",
      "Name: count, Length: 61748, dtype: int64 \n",
      "\n",
      "spkts\n",
      "7        166272\n",
      "15       111928\n",
      "11       110688\n",
      "8         94248\n",
      "1         78375\n",
      "          ...  \n",
      "23            1\n",
      "11733         1\n",
      "19442         1\n",
      "21369         1\n",
      "1423          1\n",
      "Name: count, Length: 87, dtype: int64 \n",
      "\n",
      "dpkts\n",
      "0        603339\n",
      "1         55061\n",
      "6          4581\n",
      "2          2224\n",
      "3          1179\n",
      "          ...  \n",
      "1423          1\n",
      "34797         1\n",
      "34800         1\n",
      "22129         1\n",
      "22132         1\n",
      "Name: count, Length: 61, dtype: int64 \n",
      "\n",
      "sbytes\n",
      "420      161549\n",
      "900      111882\n",
      "660      110526\n",
      "480       94214\n",
      "60        64300\n",
      "          ...  \n",
      "1370          1\n",
      "18510         1\n",
      "1546          1\n",
      "2361          1\n",
      "403           1\n",
      "Name: count, Length: 558, dtype: int64 \n",
      "\n",
      "dbytes\n",
      "0       603339\n",
      "60       54675\n",
      "581       4469\n",
      "120       2196\n",
      "180        907\n",
      "         ...  \n",
      "698          1\n",
      "2170         1\n",
      "2101         1\n",
      "1332         1\n",
      "480          1\n",
      "Name: count, Length: 455, dtype: int64 \n",
      "\n",
      "rate\n",
      "0.000000     25054\n",
      "1.002710       813\n",
      "0.484437       782\n",
      "0.484498       768\n",
      "0.490698       757\n",
      "             ...  \n",
      "24.644850        1\n",
      "54.593792        1\n",
      "27.475151        1\n",
      "27.701519        1\n",
      "0.017689         1\n",
      "Name: count, Length: 21261, dtype: int64 \n",
      "\n",
      "srate\n",
      "0.000000      78837\n",
      "1.002710        813\n",
      "0.484437        782\n",
      "0.484498        768\n",
      "0.490698        757\n",
      "              ...  \n",
      "22.862032         1\n",
      "15.157056         1\n",
      "13.830302         1\n",
      "178.602356        1\n",
      "0.008255          1\n",
      "Name: count, Length: 16448, dtype: int64 \n",
      "\n",
      "drate\n",
      "0.000000      658400\n",
      "267.773468        16\n",
      "268.672760        15\n",
      "260.179535        13\n",
      "121.698914        11\n",
      "               ...  \n",
      "0.032960           1\n",
      "0.026878           1\n",
      "24.846201          1\n",
      "25.077238          1\n",
      "0.008255           1\n",
      "Name: count, Length: 6046, dtype: int64 \n",
      "\n",
      "TnBPSrcIP\n",
      "42000       72443\n",
      "90000       52100\n",
      "66000       50300\n",
      "48000       39220\n",
      "12000       17110\n",
      "            ...  \n",
      "19736679        1\n",
      "220             1\n",
      "370             1\n",
      "44215889        1\n",
      "172             1\n",
      "Name: count, Length: 1614, dtype: int64 \n",
      "\n",
      "TnBPDstIP\n",
      "42000     109300\n",
      "90000      52200\n",
      "66000      50800\n",
      "48000      46800\n",
      "12000      22200\n",
      "           ...  \n",
      "1086           1\n",
      "8285           1\n",
      "439173         1\n",
      "60             1\n",
      "866            1\n",
      "Name: count, Length: 1404, dtype: int64 \n",
      "\n",
      "TnP_PSrcIP\n",
      "700      72443\n",
      "1500     52100\n",
      "1100     50300\n",
      "800      39220\n",
      "200      18210\n",
      "         ...  \n",
      "13490        1\n",
      "7586         1\n",
      "21369        1\n",
      "70057        1\n",
      "12409        1\n",
      "Name: count, Length: 1176, dtype: int64 \n",
      "\n",
      "TnP_PDstIP\n",
      "700     109300\n",
      "1500     52200\n",
      "1100     50800\n",
      "800      46800\n",
      "200      23600\n",
      "         ...  \n",
      "1906         1\n",
      "41           1\n",
      "3492         1\n",
      "2846         1\n",
      "78           1\n",
      "Name: count, Length: 1039, dtype: int64 \n",
      "\n",
      "TnP_PerProto\n",
      "700     109300\n",
      "1500     52200\n",
      "1100     50800\n",
      "800      46800\n",
      "200      27500\n",
      "         ...  \n",
      "158          2\n",
      "112          2\n",
      "156          2\n",
      "182          2\n",
      "166          2\n",
      "Name: count, Length: 1028, dtype: int64 \n",
      "\n",
      "TnP_Per_Dport\n",
      "700      109300\n",
      "2         54272\n",
      "1500      52200\n",
      "1100      50800\n",
      "800       46800\n",
      "          ...  \n",
      "19142         1\n",
      "1906          1\n",
      "12409         1\n",
      "19442         1\n",
      "3492          1\n",
      "Name: count, Length: 1017, dtype: int64 \n",
      "\n",
      "AR_P_Proto_P_SrcIP\n",
      "0.000000         8338\n",
      "1.074980         1628\n",
      "1.098340         1315\n",
      "1.098320         1134\n",
      "1.074970         1109\n",
      "                 ... \n",
      "0.002980            1\n",
      "0.056892            1\n",
      "200000.000000       1\n",
      "0.068744            1\n",
      "0.018868            1\n",
      "Name: count, Length: 8215, dtype: int64 \n",
      "\n",
      "AR_P_Proto_P_DstIP\n",
      "0.000000     8357\n",
      "1.074980     1400\n",
      "1.098340     1100\n",
      "1.074960      900\n",
      "1.074970      800\n",
      "             ... \n",
      "7.136210        1\n",
      "18.048100       1\n",
      "1.802970        1\n",
      "9.023850        1\n",
      "0.018868        1\n",
      "Name: count, Length: 6688, dtype: int64 \n",
      "\n",
      "N_IN_Conn_P_DstIP\n",
      "100    635300\n",
      "58       5568\n",
      "11       4389\n",
      "99       3564\n",
      "57       2964\n",
      "        ...  \n",
      "24         24\n",
      "21         21\n",
      "20         20\n",
      "17         17\n",
      "16         16\n",
      "Name: count, Length: 73, dtype: int64 \n",
      "\n",
      "N_IN_Conn_P_SrcIP\n",
      "100    354200\n",
      "14       6874\n",
      "42       6594\n",
      "25       6575\n",
      "98       6566\n",
      "        ...  \n",
      "4         324\n",
      "5         315\n",
      "3         225\n",
      "2         192\n",
      "1         124\n",
      "Name: count, Length: 100, dtype: int64 \n",
      "\n",
      "AR_P_Proto_P_Sport\n",
      "0.000000     8771\n",
      "1.075000     1694\n",
      "1.098340     1681\n",
      "1.074330     1468\n",
      "1.074630     1411\n",
      "             ... \n",
      "36.335700       1\n",
      "42.496300       1\n",
      "49.742500       1\n",
      "32.639000       1\n",
      "0.018868        1\n",
      "Name: count, Length: 16043, dtype: int64 \n",
      "\n",
      "AR_P_Proto_P_Dport\n",
      "0.000000      11348\n",
      "1.074980       1400\n",
      "1.098340       1100\n",
      "1.074960        900\n",
      "1.074970        800\n",
      "              ...  \n",
      "659.413000        1\n",
      "422.208000        1\n",
      "418.410000        1\n",
      "428.082000        1\n",
      "0.018868          1\n",
      "Name: count, Length: 13598, dtype: int64 \n",
      "\n",
      "Pkts_P_State_P_Protocol_P_DestIP\n",
      "700      109300\n",
      "1500      52200\n",
      "1100      50800\n",
      "800       46800\n",
      "200       23699\n",
      "          ...  \n",
      "35029         1\n",
      "35028         1\n",
      "19442         1\n",
      "70056         1\n",
      "34800         1\n",
      "Name: count, Length: 1063, dtype: int64 \n",
      "\n",
      "Pkts_P_State_P_Protocol_P_SrcIP\n",
      "700      72443\n",
      "1500     52100\n",
      "1100     50300\n",
      "800      39220\n",
      "200      18309\n",
      "         ...  \n",
      "35028        1\n",
      "35029        1\n",
      "70057        1\n",
      "3492         1\n",
      "44258        1\n",
      "Name: count, Length: 1180, dtype: int64 \n",
      "\n",
      "attack\n",
      "1    668045\n",
      "0       477\n",
      "Name: count, dtype: int64 \n",
      "\n",
      "category\n",
      "DDoS              576884\n",
      "Reconnaissance     91082\n",
      "Normal               477\n",
      "Theft                 79\n",
      "Name: count, dtype: int64 \n",
      "\n",
      "subcategory\n",
      "UDP                  576884\n",
      "Service_Scan          73168\n",
      "OS_Fingerprint        17914\n",
      "Normal                  477\n",
      "Keylogging               73\n",
      "Data_Exfiltration         6\n",
      "Name: count, dtype: int64 \n",
      "\n"
     ]
    }
   ],
   "source": [
    "for col in df:\n",
    "    print(df[col].value_counts(), '\\n')"
   ]
  },
  {
   "cell_type": "markdown",
   "metadata": {},
   "source": [
    "## Transform Data"
   ]
  },
  {
   "cell_type": "markdown",
   "metadata": {},
   "source": [
    "### Enumerate nominal columns"
   ]
  },
  {
   "cell_type": "code",
   "execution_count": 42,
   "metadata": {
    "ExecuteTime": {
     "end_time": "2023-06-08T19:43:56.792123Z",
     "start_time": "2023-06-08T19:43:54.196582Z"
    }
   },
   "outputs": [
    {
     "name": "stdout",
     "output_type": "stream",
     "text": [
      "before enumerating: flgs\n",
      "flgs\n",
      "e        654807\n",
      "eU        11159\n",
      "e s        2331\n",
      "e d         113\n",
      "e g          99\n",
      "e &           5\n",
      "e   t         4\n",
      "e *           3\n",
      "e  D          1\n",
      "Name: count, dtype: int64\n",
      "\n",
      "\n",
      "after enumerating: flgs\n",
      "flgs\n",
      "0    654807\n",
      "8     11159\n",
      "7      2331\n",
      "5       113\n",
      "6        99\n",
      "3         5\n",
      "1         4\n",
      "4         3\n",
      "2         1\n",
      "Name: count, dtype: int64\n",
      "\n",
      "\n",
      "before enumerating: proto\n",
      "proto\n",
      "udp          592145\n",
      "tcp           67202\n",
      "icmp           9030\n",
      "arp             137\n",
      "ipv6-icmp         8\n",
      "Name: count, dtype: int64\n",
      "\n",
      "\n",
      "after enumerating: proto\n",
      "proto\n",
      "4    592145\n",
      "3     67202\n",
      "1      9030\n",
      "0       137\n",
      "2         8\n",
      "Name: count, dtype: int64\n",
      "\n",
      "\n",
      "before enumerating: saddr\n",
      "saddr\n",
      "192.168.100.147              182905\n",
      "192.168.100.148              167582\n",
      "192.168.100.150              161085\n",
      "192.168.100.149              147091\n",
      "192.168.100.5                  5029\n",
      "192.168.100.3                  4673\n",
      "192.168.100.6                    38\n",
      "192.168.100.7                    30\n",
      "192.168.100.4                    19\n",
      "192.168.100.1                    16\n",
      "192.168.100.46                   15\n",
      "192.168.100.27                   14\n",
      "fe80::250:56ff:febe:254           6\n",
      "fe80::c0c0:aa20:45b9:bdd9         4\n",
      "192.168.100.55                    3\n",
      "fe80::250:56ff:febe:26db          2\n",
      "fe80::250:56ff:febe:e9d9          2\n",
      "fe80::250:56ff:febe:89ee          2\n",
      "fe80::2c6a:ff9b:7e14:166a         2\n",
      "fe80::250:56ff:febe:bf1a          2\n",
      "fe80::250:56ff:febe:c038          2\n",
      "Name: count, dtype: int64\n",
      "\n",
      "\n",
      "after enumerating: saddr\n",
      "saddr\n",
      "1     182905\n",
      "2     167582\n",
      "4     161085\n",
      "3     147091\n",
      "9       5029\n",
      "6       4673\n",
      "11        38\n",
      "12        30\n",
      "7         19\n",
      "0         16\n",
      "8         15\n",
      "5         14\n",
      "13         6\n",
      "20         4\n",
      "10         3\n",
      "14         2\n",
      "18         2\n",
      "15         2\n",
      "19         2\n",
      "16         2\n",
      "17         2\n",
      "Name: count, dtype: int64\n",
      "\n",
      "\n",
      "before enumerating: sport\n",
      "sport\n",
      "0x0303    8928\n",
      "2290      1031\n",
      "1822      1030\n",
      "1589      1030\n",
      "2456      1029\n",
      "          ... \n",
      "7664         1\n",
      "7663         1\n",
      "7662         1\n",
      "7661         1\n",
      "54813        1\n",
      "Name: count, Length: 107994, dtype: int64\n",
      "\n",
      "\n",
      "after enumerating: sport\n",
      "sport\n",
      "5        8928\n",
      "14341    1038\n",
      "21884    1036\n",
      "9141     1036\n",
      "16185    1036\n",
      "         ... \n",
      "12594       7\n",
      "12593       7\n",
      "12592       7\n",
      "12591       7\n",
      "26225       7\n",
      "Name: count, Length: 65541, dtype: int64\n",
      "\n",
      "\n",
      "before enumerating: daddr\n",
      "daddr\n",
      "192.168.100.3      617895\n",
      "192.168.100.5       31384\n",
      "192.168.100.6        4719\n",
      "192.168.100.7        4496\n",
      "192.168.100.149      2443\n",
      "                    ...  \n",
      "205.251.195.185         1\n",
      "205.251.199.61          1\n",
      "205.251.199.194         1\n",
      "205.251.198.119         1\n",
      "205.251.194.167         1\n",
      "Name: count, Length: 84, dtype: int64\n",
      "\n",
      "\n",
      "after enumerating: daddr\n",
      "daddr\n",
      "16    617895\n",
      "18     31384\n",
      "20      4719\n",
      "21      4496\n",
      "12      2443\n",
      "       ...  \n",
      "53         1\n",
      "65         1\n",
      "64         1\n",
      "60         1\n",
      "49         1\n",
      "Name: count, Length: 84, dtype: int64\n",
      "\n",
      "\n",
      "before enumerating: dport\n",
      "dport\n",
      "80        507896\n",
      "80         69717\n",
      "1           6745\n",
      "3306        4613\n",
      "53           340\n",
      "           ...  \n",
      "0x189b         1\n",
      "0xc088         1\n",
      "0x6797         1\n",
      "3563           1\n",
      "3799           1\n",
      "Name: count, Length: 3966, dtype: int64\n",
      "\n",
      "\n",
      "after enumerating: dport\n",
      "dport\n",
      "3629    577613\n",
      "1082      6745\n",
      "2263      4613\n",
      "3041       340\n",
      "1811       204\n",
      "         ...  \n",
      "395          1\n",
      "400          1\n",
      "2365         1\n",
      "1031         1\n",
      "2157         1\n",
      "Name: count, Length: 3964, dtype: int64\n",
      "\n",
      "\n",
      "before enumerating: state\n",
      "state\n",
      "INT    591914\n",
      "RST     59975\n",
      "URP      8928\n",
      "FIN      6385\n",
      "REQ       758\n",
      "CON       452\n",
      "ECO        70\n",
      "TST        16\n",
      "MAS        16\n",
      "NRS         8\n",
      "Name: count, dtype: int64\n",
      "\n",
      "\n",
      "after enumerating: state\n",
      "state\n",
      "3    591914\n",
      "7     59975\n",
      "9      8928\n",
      "2      6385\n",
      "6       758\n",
      "0       452\n",
      "1        70\n",
      "8        16\n",
      "4        16\n",
      "5         8\n",
      "Name: count, dtype: int64\n",
      "\n",
      "\n",
      "before enumerating: category\n",
      "category\n",
      "DDoS              576884\n",
      "Reconnaissance     91082\n",
      "Normal               477\n",
      "Theft                 79\n",
      "Name: count, dtype: int64\n",
      "\n",
      "\n",
      "after enumerating: category\n",
      "category\n",
      "0    576884\n",
      "2     91082\n",
      "1       477\n",
      "3        79\n",
      "Name: count, dtype: int64\n",
      "\n",
      "\n",
      "before enumerating: subcategory\n",
      "subcategory\n",
      "UDP                  576884\n",
      "Service_Scan          73168\n",
      "OS_Fingerprint        17914\n",
      "Normal                  477\n",
      "Keylogging               73\n",
      "Data_Exfiltration         6\n",
      "Name: count, dtype: int64\n",
      "\n",
      "\n",
      "after enumerating: subcategory\n",
      "subcategory\n",
      "5    576884\n",
      "4     73168\n",
      "3     17914\n",
      "2       477\n",
      "1        73\n",
      "0         6\n",
      "Name: count, dtype: int64\n",
      "\n",
      "\n"
     ]
    }
   ],
   "source": [
    "le = LabelEncoder()\n",
    "for _col in nominal:\n",
    "    print(f'before enumerating: {_col}', df[_col].value_counts(), '\\n', sep='\\n')\n",
    "    try:\n",
    "        df[_col] = le.fit_transform(df[_col])\n",
    "    except TypeError:\n",
    "        df[_col] = le.fit_transform(df[_col].astype(str))\n",
    "    print(f'after enumerating: {_col}', df[_col].value_counts(), '\\n',  sep='\\n')"
   ]
  },
  {
   "cell_type": "code",
   "execution_count": 43,
   "metadata": {
    "ExecuteTime": {
     "end_time": "2023-06-08T19:43:57.528350800Z",
     "start_time": "2023-06-08T19:43:56.794124400Z"
    }
   },
   "outputs": [],
   "source": [
    "from sklearn.preprocessing import MinMaxScaler\n",
    "scaler = MinMaxScaler()\n",
    "df.drop(columns = ['attack'], inplace = True)\n",
    "df = scaler.fit_transform(df)"
   ]
  },
  {
   "cell_type": "markdown",
   "metadata": {},
   "source": [
    "### Baseline\n",
    "latent space dimension = 22\n",
    "1 hidden layer"
   ]
  },
  {
   "cell_type": "code",
   "execution_count": 44,
   "metadata": {
    "ExecuteTime": {
     "end_time": "2023-06-08T19:43:59.163120Z",
     "start_time": "2023-06-08T19:43:57.535354Z"
    }
   },
   "outputs": [
    {
     "name": "stdout",
     "output_type": "stream",
     "text": [
      "Training set shape: (534817, 45) (534817, 45)\n",
      "Testing set shape: (133705, 45) (133705, 45)\n"
     ]
    }
   ],
   "source": [
    "from sklearn.model_selection import train_test_split\n",
    "X_train, X_test, y_train, y_test = train_test_split(df, df,test_size=0.2, random_state=42)\n",
    "print(\"Training set shape:\", X_train.shape, y_train.shape)\n",
    "print(\"Testing set shape:\", X_test.shape, y_test.shape)"
   ]
  },
  {
   "cell_type": "code",
   "execution_count": 45,
   "outputs": [],
   "source": [
    "X_train, X_val = train_test_split(X_train, test_size=0.2, random_state=42)"
   ],
   "metadata": {
    "collapsed": false,
    "ExecuteTime": {
     "end_time": "2023-06-08T19:43:59.337636600Z",
     "start_time": "2023-06-08T19:43:59.166121300Z"
    }
   }
  },
  {
   "cell_type": "code",
   "execution_count": 46,
   "metadata": {
    "ExecuteTime": {
     "end_time": "2023-06-08T19:43:59.470610100Z",
     "start_time": "2023-06-08T19:43:59.361886300Z"
    }
   },
   "outputs": [],
   "source": [
    "# TODO: Set up the encoder to compute the reconstruction error\n",
    "# This is the size of our encoded representations\n",
    "\n",
    "encoding_dim = 30  # compression factor of ~2/3 per layer, assuming the input is 45 floats\n",
    "\n",
    "# This is our input\n",
    "Inputs = keras.Input(shape=(45,))\n",
    "# \"encoded\" is the encoded representation of the input\n",
    "encoded = layers.Dense(38, activation='relu')(Inputs)\n",
    "\n",
    "encoded = layers.Dense(encoding_dim, activation='relu')(encoded)\n",
    "\n",
    "\n",
    "decoded = layers.Dense(38, activation='relu')(encoded)\n",
    "\n",
    "# \"decoded\" is the lossy reconstruction of the input\n",
    "decoded = layers.Dense(45, activation='sigmoid')(decoded)\n",
    "\n",
    "# This model maps an input to its reconstruction\n",
    "SAE_model = keras.Model(Inputs, decoded)\n",
    "SAE_model.compile(optimizer='RMSprop', loss='mse')\n",
    "\n",
    "checkpointer = ModelCheckpoint(filepath=\"SAE_mode\",\n",
    "                               verbose=0,\n",
    "                               save_best_only=True)\n",
    "\n",
    "# Train the autoencoder\n",
    "tensorboard = TensorBoard(histogram_freq=0,\n",
    "                          write_graph=True,\n",
    "                          write_images=True)"
   ]
  },
  {
   "cell_type": "code",
   "execution_count": 47,
   "metadata": {
    "ExecuteTime": {
     "end_time": "2023-06-08T19:46:35.300003500Z",
     "start_time": "2023-06-08T19:43:59.469609400Z"
    }
   },
   "outputs": [
    {
     "name": "stdout",
     "output_type": "stream",
     "text": [
      "Epoch 1/10\n",
      "6676/6686 [============================>.] - ETA: 0s - loss: 0.0033"
     ]
    },
    {
     "name": "stderr",
     "output_type": "stream",
     "text": [
      "WARNING:absl:Found untraced functions such as _update_step_xla while saving (showing 1 of 1). These functions will not be directly callable after loading.\n"
     ]
    },
    {
     "name": "stdout",
     "output_type": "stream",
     "text": [
      "INFO:tensorflow:Assets written to: SAE_mode\\assets\n"
     ]
    },
    {
     "name": "stderr",
     "output_type": "stream",
     "text": [
      "INFO:tensorflow:Assets written to: SAE_mode\\assets\n"
     ]
    },
    {
     "name": "stdout",
     "output_type": "stream",
     "text": [
      "6686/6686 [==============================] - 16s 2ms/step - loss: 0.0033 - val_loss: 7.5214e-04\n",
      "Epoch 2/10\n",
      "6678/6686 [============================>.] - ETA: 0s - loss: 5.9124e-04"
     ]
    },
    {
     "name": "stderr",
     "output_type": "stream",
     "text": [
      "WARNING:absl:Found untraced functions such as _update_step_xla while saving (showing 1 of 1). These functions will not be directly callable after loading.\n"
     ]
    },
    {
     "name": "stdout",
     "output_type": "stream",
     "text": [
      "INFO:tensorflow:Assets written to: SAE_mode\\assets\n"
     ]
    },
    {
     "name": "stderr",
     "output_type": "stream",
     "text": [
      "INFO:tensorflow:Assets written to: SAE_mode\\assets\n"
     ]
    },
    {
     "name": "stdout",
     "output_type": "stream",
     "text": [
      "6686/6686 [==============================] - 15s 2ms/step - loss: 5.9103e-04 - val_loss: 5.0131e-04\n",
      "Epoch 3/10\n",
      "6676/6686 [============================>.] - ETA: 0s - loss: 4.6664e-04"
     ]
    },
    {
     "name": "stderr",
     "output_type": "stream",
     "text": [
      "WARNING:absl:Found untraced functions such as _update_step_xla while saving (showing 1 of 1). These functions will not be directly callable after loading.\n"
     ]
    },
    {
     "name": "stdout",
     "output_type": "stream",
     "text": [
      "INFO:tensorflow:Assets written to: SAE_mode\\assets\n"
     ]
    },
    {
     "name": "stderr",
     "output_type": "stream",
     "text": [
      "INFO:tensorflow:Assets written to: SAE_mode\\assets\n"
     ]
    },
    {
     "name": "stdout",
     "output_type": "stream",
     "text": [
      "6686/6686 [==============================] - 15s 2ms/step - loss: 4.6670e-04 - val_loss: 4.5623e-04\n",
      "Epoch 4/10\n",
      "6670/6686 [============================>.] - ETA: 0s - loss: 4.1725e-04"
     ]
    },
    {
     "name": "stderr",
     "output_type": "stream",
     "text": [
      "WARNING:absl:Found untraced functions such as _update_step_xla while saving (showing 1 of 1). These functions will not be directly callable after loading.\n"
     ]
    },
    {
     "name": "stdout",
     "output_type": "stream",
     "text": [
      "INFO:tensorflow:Assets written to: SAE_mode\\assets\n"
     ]
    },
    {
     "name": "stderr",
     "output_type": "stream",
     "text": [
      "INFO:tensorflow:Assets written to: SAE_mode\\assets\n"
     ]
    },
    {
     "name": "stdout",
     "output_type": "stream",
     "text": [
      "6686/6686 [==============================] - 16s 2ms/step - loss: 4.1713e-04 - val_loss: 4.1365e-04\n",
      "Epoch 5/10\n",
      "6669/6686 [============================>.] - ETA: 0s - loss: 3.7720e-04"
     ]
    },
    {
     "name": "stderr",
     "output_type": "stream",
     "text": [
      "WARNING:absl:Found untraced functions such as _update_step_xla while saving (showing 1 of 1). These functions will not be directly callable after loading.\n"
     ]
    },
    {
     "name": "stdout",
     "output_type": "stream",
     "text": [
      "INFO:tensorflow:Assets written to: SAE_mode\\assets\n"
     ]
    },
    {
     "name": "stderr",
     "output_type": "stream",
     "text": [
      "INFO:tensorflow:Assets written to: SAE_mode\\assets\n"
     ]
    },
    {
     "name": "stdout",
     "output_type": "stream",
     "text": [
      "6686/6686 [==============================] - 17s 2ms/step - loss: 3.7702e-04 - val_loss: 3.7195e-04\n",
      "Epoch 6/10\n",
      "6678/6686 [============================>.] - ETA: 0s - loss: 3.4086e-04"
     ]
    },
    {
     "name": "stderr",
     "output_type": "stream",
     "text": [
      "WARNING:absl:Found untraced functions such as _update_step_xla while saving (showing 1 of 1). These functions will not be directly callable after loading.\n"
     ]
    },
    {
     "name": "stdout",
     "output_type": "stream",
     "text": [
      "INFO:tensorflow:Assets written to: SAE_mode\\assets\n"
     ]
    },
    {
     "name": "stderr",
     "output_type": "stream",
     "text": [
      "INFO:tensorflow:Assets written to: SAE_mode\\assets\n"
     ]
    },
    {
     "name": "stdout",
     "output_type": "stream",
     "text": [
      "6686/6686 [==============================] - 16s 2ms/step - loss: 3.4085e-04 - val_loss: 3.3255e-04\n",
      "Epoch 7/10\n",
      "6674/6686 [============================>.] - ETA: 0s - loss: 3.1437e-04"
     ]
    },
    {
     "name": "stderr",
     "output_type": "stream",
     "text": [
      "WARNING:absl:Found untraced functions such as _update_step_xla while saving (showing 1 of 1). These functions will not be directly callable after loading.\n"
     ]
    },
    {
     "name": "stdout",
     "output_type": "stream",
     "text": [
      "INFO:tensorflow:Assets written to: SAE_mode\\assets\n"
     ]
    },
    {
     "name": "stderr",
     "output_type": "stream",
     "text": [
      "INFO:tensorflow:Assets written to: SAE_mode\\assets\n"
     ]
    },
    {
     "name": "stdout",
     "output_type": "stream",
     "text": [
      "6686/6686 [==============================] - 16s 2ms/step - loss: 3.1432e-04 - val_loss: 2.9813e-04\n",
      "Epoch 8/10\n",
      "6686/6686 [==============================] - 15s 2ms/step - loss: 2.9528e-04 - val_loss: 3.0466e-04\n",
      "Epoch 9/10\n",
      "6669/6686 [============================>.] - ETA: 0s - loss: 2.8185e-04"
     ]
    },
    {
     "name": "stderr",
     "output_type": "stream",
     "text": [
      "WARNING:absl:Found untraced functions such as _update_step_xla while saving (showing 1 of 1). These functions will not be directly callable after loading.\n"
     ]
    },
    {
     "name": "stdout",
     "output_type": "stream",
     "text": [
      "INFO:tensorflow:Assets written to: SAE_mode\\assets\n"
     ]
    },
    {
     "name": "stderr",
     "output_type": "stream",
     "text": [
      "INFO:tensorflow:Assets written to: SAE_mode\\assets\n"
     ]
    },
    {
     "name": "stdout",
     "output_type": "stream",
     "text": [
      "6686/6686 [==============================] - 15s 2ms/step - loss: 2.8185e-04 - val_loss: 2.8278e-04\n",
      "Epoch 10/10\n",
      "6669/6686 [============================>.] - ETA: 0s - loss: 2.7121e-04"
     ]
    },
    {
     "name": "stderr",
     "output_type": "stream",
     "text": [
      "WARNING:absl:Found untraced functions such as _update_step_xla while saving (showing 1 of 1). These functions will not be directly callable after loading.\n"
     ]
    },
    {
     "name": "stdout",
     "output_type": "stream",
     "text": [
      "INFO:tensorflow:Assets written to: SAE_mode\\assets\n"
     ]
    },
    {
     "name": "stderr",
     "output_type": "stream",
     "text": [
      "INFO:tensorflow:Assets written to: SAE_mode\\assets\n"
     ]
    },
    {
     "name": "stdout",
     "output_type": "stream",
     "text": [
      "6686/6686 [==============================] - 15s 2ms/step - loss: 2.7109e-04 - val_loss: 2.7815e-04\n"
     ]
    }
   ],
   "source": [
    "history = SAE_model.fit(X_train, X_train,\n",
    "                        epochs=10,\n",
    "                        batch_size=64,\n",
    "                        shuffle= True,\n",
    "                        validation_data=(X_val, X_val),\n",
    "                        callbacks=[checkpointer, tensorboard]).history\n",
    "autoencoder = load_model('SAE_mode')"
   ]
  },
  {
   "cell_type": "code",
   "execution_count": 48,
   "outputs": [
    {
     "name": "stdout",
     "output_type": "stream",
     "text": [
      "4179/4179 [==============================] - 5s 1ms/step\n"
     ]
    },
    {
     "data": {
      "text/plain": "        Reconstruction_error\n0                   0.000099\n1                   0.000096\n2                   0.000077\n3                   0.000063\n4                   0.000184\n...                      ...\n133700              0.000159\n133701              0.000523\n133702              0.000150\n133703              0.000108\n133704              0.000108\n\n[133705 rows x 1 columns]",
      "text/html": "<div>\n<style scoped>\n    .dataframe tbody tr th:only-of-type {\n        vertical-align: middle;\n    }\n\n    .dataframe tbody tr th {\n        vertical-align: top;\n    }\n\n    .dataframe thead th {\n        text-align: right;\n    }\n</style>\n<table border=\"1\" class=\"dataframe\">\n  <thead>\n    <tr style=\"text-align: right;\">\n      <th></th>\n      <th>Reconstruction_error</th>\n    </tr>\n  </thead>\n  <tbody>\n    <tr>\n      <th>0</th>\n      <td>0.000099</td>\n    </tr>\n    <tr>\n      <th>1</th>\n      <td>0.000096</td>\n    </tr>\n    <tr>\n      <th>2</th>\n      <td>0.000077</td>\n    </tr>\n    <tr>\n      <th>3</th>\n      <td>0.000063</td>\n    </tr>\n    <tr>\n      <th>4</th>\n      <td>0.000184</td>\n    </tr>\n    <tr>\n      <th>...</th>\n      <td>...</td>\n    </tr>\n    <tr>\n      <th>133700</th>\n      <td>0.000159</td>\n    </tr>\n    <tr>\n      <th>133701</th>\n      <td>0.000523</td>\n    </tr>\n    <tr>\n      <th>133702</th>\n      <td>0.000150</td>\n    </tr>\n    <tr>\n      <th>133703</th>\n      <td>0.000108</td>\n    </tr>\n    <tr>\n      <th>133704</th>\n      <td>0.000108</td>\n    </tr>\n  </tbody>\n</table>\n<p>133705 rows × 1 columns</p>\n</div>"
     },
     "execution_count": 48,
     "metadata": {},
     "output_type": "execute_result"
    }
   ],
   "source": [
    "x_hat = SAE_model.predict(X_test)\n",
    "mse = np.mean(np.power(X_test - x_hat, 2), axis=1)\n",
    "error_df = pd.DataFrame({'Reconstruction_error': mse})\n",
    "error_df"
   ],
   "metadata": {
    "collapsed": false,
    "ExecuteTime": {
     "end_time": "2023-06-08T19:46:41.939701200Z",
     "start_time": "2023-06-08T19:46:35.294776900Z"
    }
   }
  },
  {
   "cell_type": "code",
   "execution_count": 49,
   "outputs": [
    {
     "data": {
      "text/plain": "0.00027438616834789584"
     },
     "execution_count": 49,
     "metadata": {},
     "output_type": "execute_result"
    }
   ],
   "source": [
    "average_reconstruction_error = sum(mse)/len(mse)\n",
    "average_reconstruction_error"
   ],
   "metadata": {
    "collapsed": false,
    "ExecuteTime": {
     "end_time": "2023-06-08T19:46:42.078654100Z",
     "start_time": "2023-06-08T19:46:41.940700Z"
    }
   }
  },
  {
   "cell_type": "code",
   "execution_count": 65,
   "outputs": [
    {
     "data": {
      "text/plain": "<Figure size 640x480 with 1 Axes>",
      "image/png": "[encoded data removed]"
     },
     "metadata": {},
     "output_type": "display_data"
    }
   ],
   "source": [
    "plt.plot(error_df.Reconstruction_error)\n",
    "plt.xlabel('samples trained')\n",
    "plt.ylabel('Reconstruction error')\n",
    "plt.show()"
   ],
   "metadata": {
    "collapsed": false,
    "ExecuteTime": {
     "end_time": "2023-06-10T00:28:43.714186500Z",
     "start_time": "2023-06-10T00:28:43.561449700Z"
    }
   }
  },
  {
   "cell_type": "code",
   "execution_count": 63,
   "outputs": [
    {
     "data": {
      "text/plain": "                   0\ncount  133705.000000\nmean        0.000274\nstd         0.002353\nmin         0.000017\n25%         0.000070\n50%         0.000102\n75%         0.000160\nmax         0.291663",
      "text/html": "<div>\n<style scoped>\n    .dataframe tbody tr th:only-of-type {\n        vertical-align: middle;\n    }\n\n    .dataframe tbody tr th {\n        vertical-align: top;\n    }\n\n    .dataframe thead th {\n        text-align: right;\n    }\n</style>\n<table border=\"1\" class=\"dataframe\">\n  <thead>\n    <tr style=\"text-align: right;\">\n      <th></th>\n      <th>0</th>\n    </tr>\n  </thead>\n  <tbody>\n    <tr>\n      <th>count</th>\n      <td>133705.000000</td>\n    </tr>\n    <tr>\n      <th>mean</th>\n      <td>0.000274</td>\n    </tr>\n    <tr>\n      <th>std</th>\n      <td>0.002353</td>\n    </tr>\n    <tr>\n      <th>min</th>\n      <td>0.000017</td>\n    </tr>\n    <tr>\n      <th>25%</th>\n      <td>0.000070</td>\n    </tr>\n    <tr>\n      <th>50%</th>\n      <td>0.000102</td>\n    </tr>\n    <tr>\n      <th>75%</th>\n      <td>0.000160</td>\n    </tr>\n    <tr>\n      <th>max</th>\n      <td>0.291663</td>\n    </tr>\n  </tbody>\n</table>\n</div>"
     },
     "execution_count": 63,
     "metadata": {},
     "output_type": "execute_result"
    }
   ],
   "source": [
    "mse_df = pd.DataFrame(mse)\n",
    "mse_df.describe()"
   ],
   "metadata": {
    "collapsed": false,
    "ExecuteTime": {
     "end_time": "2023-06-10T00:21:05.464466200Z",
     "start_time": "2023-06-10T00:21:05.368181700Z"
    }
   }
  },
  {
   "cell_type": "code",
   "execution_count": 56,
   "outputs": [
    {
     "data": {
      "text/plain": "<Figure size 4800x2700 with 1 Axes>",
      "image/png": "[encoded data removed]"
     },
     "metadata": {},
     "output_type": "display_data"
    }
   ],
   "source": [
    "Sfig, ax = plt.subplots(figsize=(16,9), dpi=300)\n",
    "plt.title(label='SAE Model Loss by Epoch', loc='center')\n",
    "ax.plot(history['val_loss'], label='Validation Data', color='red')\n",
    "ax.plot(history['loss'], label='Validation Data', color='yellow')\n",
    "ax.set(xlabel='Epoch', ylabel='Loss')\n",
    "plt.legend()\n",
    "plt.show()"
   ],
   "metadata": {
    "collapsed": false,
    "ExecuteTime": {
     "end_time": "2023-06-10T00:14:17.482132200Z",
     "start_time": "2023-06-10T00:14:17.053521100Z"
    }
   }
  },
  {
   "cell_type": "code",
   "execution_count": 64,
   "outputs": [
    {
     "data": {
      "text/plain": "<Figure size 640x480 with 1 Axes>",
      "image/png": "[encoded data removed]"
     },
     "metadata": {},
     "output_type": "display_data"
    }
   ],
   "source": [
    "plt.plot(history['loss'])\n",
    "plt.plot(history['val_loss'])\n",
    "plt.title('model loss')\n",
    "plt.ylabel('loss')\n",
    "plt.xlabel('epoch')\n",
    "plt.legend(['train', 'test'], loc='upper right');"
   ],
   "metadata": {
    "collapsed": false,
    "ExecuteTime": {
     "end_time": "2023-06-10T00:26:25.010710Z",
     "start_time": "2023-06-10T00:26:24.824477900Z"
    }
   }
  }
 ],
 "metadata": {
  "kernelspec": {
   "display_name": "Python 3 (ipykernel)",
   "language": "python",
   "name": "python3"
  },
  "language_info": {
   "codemirror_mode": {
    "name": "ipython",
    "version": 3
   },
   "file_extension": ".py",
   "mimetype": "text/x-python",
   "name": "python",
   "nbconvert_exporter": "python",
   "pygments_lexer": "ipython3",
   "version": "3.9.12"
  }
 },
 "nbformat": 4,
 "nbformat_minor": 1
}
